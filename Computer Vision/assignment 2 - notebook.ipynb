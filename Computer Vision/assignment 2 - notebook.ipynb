{
 "cells": [
  {
   "cell_type": "code",
   "execution_count": 1,
   "id": "R8DRh1XjHA1P",
   "metadata": {
    "colab": {
     "base_uri": "https://localhost:8080/"
    },
    "id": "R8DRh1XjHA1P",
    "outputId": "91825068-2c5f-4b79-b362-c1873018053a"
   },
   "outputs": [
    {
     "name": "stdout",
     "output_type": "stream",
     "text": [
      "Looking in indexes: https://pypi.org/simple, https://us-python.pkg.dev/colab-wheels/public/simple/\n",
      "Collecting torchinfo\n",
      "  Downloading torchinfo-1.7.2-py3-none-any.whl (22 kB)\n",
      "Installing collected packages: torchinfo\n",
      "Successfully installed torchinfo-1.7.2\n"
     ]
    }
   ],
   "source": [
    "!pip install torchinfo"
   ]
  },
  {
   "cell_type": "code",
   "execution_count": 2,
   "id": "4169e119",
   "metadata": {
    "id": "4169e119"
   },
   "outputs": [],
   "source": [
    "import torch, torchvision\n",
    "from torchvision import models\n",
    "import torchvision.transforms as transforms\n",
    "from torchinfo import summary\n",
    "\n",
    "import torch.nn as nn\n",
    "import torch.nn.functional as F\n",
    "\n",
    "import torch.optim as optim\n",
    "\n",
    "from PIL import Image\n",
    "import numpy as np\n",
    "import matplotlib.pyplot as plt"
   ]
  },
  {
   "cell_type": "markdown",
   "id": "55eb6c9f",
   "metadata": {
    "id": "55eb6c9f"
   },
   "source": [
    "## Question 1\n",
    "\n",
    "ref:\n",
    "\n",
    "- https://medium.com/data-science-bootcamp/transfer-learning-with-pytorch-code-snippet-load-a-pretrained-model-900374950004\n",
    "\n",
    "- https://towardsdatascience.com/fine-tuning-pre-trained-model-vgg-16-1277268c537f\n",
    "\n",
    "- https://www.learnpytorch.io/06_pytorch_transfer_learning/#34-freezing-the-base-model-and-changing-the-output-layer-to-suit-our-needs\n"
   ]
  },
  {
   "cell_type": "code",
   "execution_count": 3,
   "id": "93be4898",
   "metadata": {
    "colab": {
     "base_uri": "https://localhost:8080/"
    },
    "id": "93be4898",
    "outputId": "62428b86-3ad9-4b99-d6c8-ab58b1cad05f"
   },
   "outputs": [
    {
     "name": "stdout",
     "output_type": "stream",
     "text": [
      "Downloading https://www.cs.toronto.edu/~kriz/cifar-10-python.tar.gz to ./data/cifar-10-python.tar.gz\n"
     ]
    },
    {
     "name": "stderr",
     "output_type": "stream",
     "text": [
      "100%|██████████| 170498071/170498071 [00:01<00:00, 90831601.52it/s]\n"
     ]
    },
    {
     "name": "stdout",
     "output_type": "stream",
     "text": [
      "Extracting ./data/cifar-10-python.tar.gz to ./data\n",
      "Files already downloaded and verified\n"
     ]
    }
   ],
   "source": [
    "## Loading CIFAR-10 dataset\n",
    "\n",
    "#transform = transforms.Compose(\n",
    "#    [transforms.ToTensor(),\n",
    "#     transforms.Normalize((0.5, 0.5, 0.5), (0.5, 0.5, 0.5))])\n",
    "\n",
    "transform = transforms.Compose([\n",
    "    transforms.Resize(256),\n",
    "    transforms.CenterCrop(224),\n",
    "    transforms.ToTensor(),\n",
    "    transforms.Normalize(mean=[0.485, 0.456, 0.406], std=[0.229, 0.224, 0.225]),]\n",
    ")\n",
    "\n",
    "#transform = torchvision.models.SqueezeNet1_0_Weights.DEFAULT.transforms()\n",
    "\n",
    "batch_size = 4\n",
    "\n",
    "trainset = torchvision.datasets.CIFAR10(root='./data', train=True,\n",
    "                                        download=True, transform=transform)\n",
    "\n",
    "train, val = torch.utils.data.random_split(trainset, [0.7, 0.3])\n",
    "\n",
    "trainloader = torch.utils.data.DataLoader(train, batch_size=batch_size,\n",
    "                                          shuffle=True, num_workers=2)\n",
    "\n",
    "valloader = torch.utils.data.DataLoader(val, batch_size=batch_size,\n",
    "                                          shuffle=True, num_workers=2)\n",
    "\n",
    "testset = torchvision.datasets.CIFAR10(root='./data', train=False,\n",
    "                                       download=True, transform=transform)\n",
    "testloader = torch.utils.data.DataLoader(testset, batch_size=batch_size,\n",
    "                                         shuffle=False, num_workers=2)\n",
    "\n",
    "classes = ('plane', 'car', 'bird', 'cat',\n",
    "           'deer', 'dog', 'frog', 'horse', \n",
    "           'ship', 'truck')"
   ]
  },
  {
   "cell_type": "code",
   "execution_count": 4,
   "id": "N1VN6fqgQ0yH",
   "metadata": {
    "colab": {
     "base_uri": "https://localhost:8080/"
    },
    "id": "N1VN6fqgQ0yH",
    "outputId": "7ce12d49-74f6-4472-b983-afe3b132a9e3"
   },
   "outputs": [
    {
     "data": {
      "text/plain": [
       "torch.Size([3, 224, 224])"
      ]
     },
     "execution_count": 4,
     "metadata": {},
     "output_type": "execute_result"
    }
   ],
   "source": [
    "t, l = train[0]\n",
    "t.size()"
   ]
  },
  {
   "cell_type": "markdown",
   "id": "39M_2EtZdZJu",
   "metadata": {
    "id": "39M_2EtZdZJu"
   },
   "source": [
    "### SqueezeNet\n",
    "\n",
    "https://pytorch.org/hub/pytorch_vision_squeezenet/"
   ]
  },
  {
   "cell_type": "code",
   "execution_count": 5,
   "id": "eBHzXXYJdRIj",
   "metadata": {
    "colab": {
     "base_uri": "https://localhost:8080/"
    },
    "id": "eBHzXXYJdRIj",
    "outputId": "c09c3a0e-1f8e-4022-c604-02d053b9c790"
   },
   "outputs": [
    {
     "name": "stderr",
     "output_type": "stream",
     "text": [
      "Downloading: \"https://github.com/pytorch/vision/zipball/v0.10.0\" to /root/.cache/torch/hub/v0.10.0.zip\n",
      "/usr/local/lib/python3.10/dist-packages/torchvision/models/_utils.py:208: UserWarning: The parameter 'pretrained' is deprecated since 0.13 and may be removed in the future, please use 'weights' instead.\n",
      "  warnings.warn(\n",
      "/usr/local/lib/python3.10/dist-packages/torchvision/models/_utils.py:223: UserWarning: Arguments other than a weight enum or `None` for 'weights' are deprecated since 0.13 and may be removed in the future. The current behavior is equivalent to passing `weights=SqueezeNet1_0_Weights.IMAGENET1K_V1`. You can also use `weights=SqueezeNet1_0_Weights.DEFAULT` to get the most up-to-date weights.\n",
      "  warnings.warn(msg)\n",
      "Downloading: \"https://download.pytorch.org/models/squeezenet1_0-b66bff10.pth\" to /root/.cache/torch/hub/checkpoints/squeezenet1_0-b66bff10.pth\n",
      "100%|██████████| 4.78M/4.78M [00:00<00:00, 60.6MB/s]\n"
     ]
    },
    {
     "data": {
      "text/plain": [
       "SqueezeNet(\n",
       "  (features): Sequential(\n",
       "    (0): Conv2d(3, 96, kernel_size=(7, 7), stride=(2, 2))\n",
       "    (1): ReLU(inplace=True)\n",
       "    (2): MaxPool2d(kernel_size=3, stride=2, padding=0, dilation=1, ceil_mode=True)\n",
       "    (3): Fire(\n",
       "      (squeeze): Conv2d(96, 16, kernel_size=(1, 1), stride=(1, 1))\n",
       "      (squeeze_activation): ReLU(inplace=True)\n",
       "      (expand1x1): Conv2d(16, 64, kernel_size=(1, 1), stride=(1, 1))\n",
       "      (expand1x1_activation): ReLU(inplace=True)\n",
       "      (expand3x3): Conv2d(16, 64, kernel_size=(3, 3), stride=(1, 1), padding=(1, 1))\n",
       "      (expand3x3_activation): ReLU(inplace=True)\n",
       "    )\n",
       "    (4): Fire(\n",
       "      (squeeze): Conv2d(128, 16, kernel_size=(1, 1), stride=(1, 1))\n",
       "      (squeeze_activation): ReLU(inplace=True)\n",
       "      (expand1x1): Conv2d(16, 64, kernel_size=(1, 1), stride=(1, 1))\n",
       "      (expand1x1_activation): ReLU(inplace=True)\n",
       "      (expand3x3): Conv2d(16, 64, kernel_size=(3, 3), stride=(1, 1), padding=(1, 1))\n",
       "      (expand3x3_activation): ReLU(inplace=True)\n",
       "    )\n",
       "    (5): Fire(\n",
       "      (squeeze): Conv2d(128, 32, kernel_size=(1, 1), stride=(1, 1))\n",
       "      (squeeze_activation): ReLU(inplace=True)\n",
       "      (expand1x1): Conv2d(32, 128, kernel_size=(1, 1), stride=(1, 1))\n",
       "      (expand1x1_activation): ReLU(inplace=True)\n",
       "      (expand3x3): Conv2d(32, 128, kernel_size=(3, 3), stride=(1, 1), padding=(1, 1))\n",
       "      (expand3x3_activation): ReLU(inplace=True)\n",
       "    )\n",
       "    (6): MaxPool2d(kernel_size=3, stride=2, padding=0, dilation=1, ceil_mode=True)\n",
       "    (7): Fire(\n",
       "      (squeeze): Conv2d(256, 32, kernel_size=(1, 1), stride=(1, 1))\n",
       "      (squeeze_activation): ReLU(inplace=True)\n",
       "      (expand1x1): Conv2d(32, 128, kernel_size=(1, 1), stride=(1, 1))\n",
       "      (expand1x1_activation): ReLU(inplace=True)\n",
       "      (expand3x3): Conv2d(32, 128, kernel_size=(3, 3), stride=(1, 1), padding=(1, 1))\n",
       "      (expand3x3_activation): ReLU(inplace=True)\n",
       "    )\n",
       "    (8): Fire(\n",
       "      (squeeze): Conv2d(256, 48, kernel_size=(1, 1), stride=(1, 1))\n",
       "      (squeeze_activation): ReLU(inplace=True)\n",
       "      (expand1x1): Conv2d(48, 192, kernel_size=(1, 1), stride=(1, 1))\n",
       "      (expand1x1_activation): ReLU(inplace=True)\n",
       "      (expand3x3): Conv2d(48, 192, kernel_size=(3, 3), stride=(1, 1), padding=(1, 1))\n",
       "      (expand3x3_activation): ReLU(inplace=True)\n",
       "    )\n",
       "    (9): Fire(\n",
       "      (squeeze): Conv2d(384, 48, kernel_size=(1, 1), stride=(1, 1))\n",
       "      (squeeze_activation): ReLU(inplace=True)\n",
       "      (expand1x1): Conv2d(48, 192, kernel_size=(1, 1), stride=(1, 1))\n",
       "      (expand1x1_activation): ReLU(inplace=True)\n",
       "      (expand3x3): Conv2d(48, 192, kernel_size=(3, 3), stride=(1, 1), padding=(1, 1))\n",
       "      (expand3x3_activation): ReLU(inplace=True)\n",
       "    )\n",
       "    (10): Fire(\n",
       "      (squeeze): Conv2d(384, 64, kernel_size=(1, 1), stride=(1, 1))\n",
       "      (squeeze_activation): ReLU(inplace=True)\n",
       "      (expand1x1): Conv2d(64, 256, kernel_size=(1, 1), stride=(1, 1))\n",
       "      (expand1x1_activation): ReLU(inplace=True)\n",
       "      (expand3x3): Conv2d(64, 256, kernel_size=(3, 3), stride=(1, 1), padding=(1, 1))\n",
       "      (expand3x3_activation): ReLU(inplace=True)\n",
       "    )\n",
       "    (11): MaxPool2d(kernel_size=3, stride=2, padding=0, dilation=1, ceil_mode=True)\n",
       "    (12): Fire(\n",
       "      (squeeze): Conv2d(512, 64, kernel_size=(1, 1), stride=(1, 1))\n",
       "      (squeeze_activation): ReLU(inplace=True)\n",
       "      (expand1x1): Conv2d(64, 256, kernel_size=(1, 1), stride=(1, 1))\n",
       "      (expand1x1_activation): ReLU(inplace=True)\n",
       "      (expand3x3): Conv2d(64, 256, kernel_size=(3, 3), stride=(1, 1), padding=(1, 1))\n",
       "      (expand3x3_activation): ReLU(inplace=True)\n",
       "    )\n",
       "  )\n",
       "  (classifier): Sequential(\n",
       "    (0): Dropout(p=0.5, inplace=False)\n",
       "    (1): Conv2d(512, 1000, kernel_size=(1, 1), stride=(1, 1))\n",
       "    (2): ReLU(inplace=True)\n",
       "    (3): AdaptiveAvgPool2d(output_size=(1, 1))\n",
       "  )\n",
       ")"
      ]
     },
     "execution_count": 5,
     "metadata": {},
     "output_type": "execute_result"
    }
   ],
   "source": [
    "squeezenet = torch.hub.load('pytorch/vision:v0.10.0', 'squeezenet1_0', pretrained=True)\n",
    "squeezenet.eval()"
   ]
  },
  {
   "cell_type": "code",
   "execution_count": 6,
   "id": "j8vZsILlgUer",
   "metadata": {
    "id": "j8vZsILlgUer"
   },
   "outputs": [],
   "source": [
    "old_seq = squeezenet.classifier"
   ]
  },
  {
   "cell_type": "code",
   "execution_count": 7,
   "id": "yi4tt4OwhXkP",
   "metadata": {
    "colab": {
     "base_uri": "https://localhost:8080/"
    },
    "id": "yi4tt4OwhXkP",
    "outputId": "b8205032-d19c-49b7-d8dc-53aefa79d051"
   },
   "outputs": [
    {
     "data": {
      "text/plain": [
       "Sequential(\n",
       "  (0): Dropout(p=0.5, inplace=False)\n",
       "  (1): Conv2d(512, 1000, kernel_size=(1, 1), stride=(1, 1))\n",
       "  (2): ReLU(inplace=True)\n",
       "  (3): AdaptiveAvgPool2d(output_size=(1, 1))\n",
       ")"
      ]
     },
     "execution_count": 7,
     "metadata": {},
     "output_type": "execute_result"
    }
   ],
   "source": [
    "old_seq"
   ]
  },
  {
   "cell_type": "code",
   "execution_count": 8,
   "id": "lK7XSFjYf1cl",
   "metadata": {
    "colab": {
     "base_uri": "https://localhost:8080/"
    },
    "id": "lK7XSFjYf1cl",
    "outputId": "5b2fbda7-d812-4228-efaa-86ed66ecb1ea"
   },
   "outputs": [
    {
     "name": "stderr",
     "output_type": "stream",
     "text": [
      "/usr/local/lib/python3.10/dist-packages/torchinfo/torchinfo.py:477: UserWarning: TypedStorage is deprecated. It will be removed in the future and UntypedStorage will be the only storage class. This should only matter to you if you are using storages directly.  To access UntypedStorage directly, use tensor.untyped_storage() instead of tensor.storage()\n",
      "  action_fn=lambda data: sys.getsizeof(data.storage()),\n",
      "/usr/local/lib/python3.10/dist-packages/torch/storage.py:665: UserWarning: TypedStorage is deprecated. It will be removed in the future and UntypedStorage will be the only storage class. This should only matter to you if you are using storages directly.  To access UntypedStorage directly, use tensor.untyped_storage() instead of tensor.storage()\n",
      "  return super().__sizeof__() + self.nbytes()\n"
     ]
    },
    {
     "data": {
      "text/plain": [
       "===================================================================================================================\n",
       "Layer (type:depth-idx)                   Output Shape              Param #                   Trainable\n",
       "===================================================================================================================\n",
       "SqueezeNet                               [10, 10]                  --                        Partial\n",
       "├─Sequential: 1-1                        [10, 512, 13, 13]         --                        False\n",
       "│    └─Conv2d: 2-1                       [10, 96, 109, 109]        (14,208)                  False\n",
       "│    └─ReLU: 2-2                         [10, 96, 109, 109]        --                        --\n",
       "│    └─MaxPool2d: 2-3                    [10, 96, 54, 54]          --                        --\n",
       "│    └─Fire: 2-4                         [10, 128, 54, 54]         --                        False\n",
       "│    │    └─Conv2d: 3-1                  [10, 16, 54, 54]          (1,552)                   False\n",
       "│    │    └─ReLU: 3-2                    [10, 16, 54, 54]          --                        --\n",
       "│    │    └─Conv2d: 3-3                  [10, 64, 54, 54]          (1,088)                   False\n",
       "│    │    └─ReLU: 3-4                    [10, 64, 54, 54]          --                        --\n",
       "│    │    └─Conv2d: 3-5                  [10, 64, 54, 54]          (9,280)                   False\n",
       "│    │    └─ReLU: 3-6                    [10, 64, 54, 54]          --                        --\n",
       "│    └─Fire: 2-5                         [10, 128, 54, 54]         --                        False\n",
       "│    │    └─Conv2d: 3-7                  [10, 16, 54, 54]          (2,064)                   False\n",
       "│    │    └─ReLU: 3-8                    [10, 16, 54, 54]          --                        --\n",
       "│    │    └─Conv2d: 3-9                  [10, 64, 54, 54]          (1,088)                   False\n",
       "│    │    └─ReLU: 3-10                   [10, 64, 54, 54]          --                        --\n",
       "│    │    └─Conv2d: 3-11                 [10, 64, 54, 54]          (9,280)                   False\n",
       "│    │    └─ReLU: 3-12                   [10, 64, 54, 54]          --                        --\n",
       "│    └─Fire: 2-6                         [10, 256, 54, 54]         --                        False\n",
       "│    │    └─Conv2d: 3-13                 [10, 32, 54, 54]          (4,128)                   False\n",
       "│    │    └─ReLU: 3-14                   [10, 32, 54, 54]          --                        --\n",
       "│    │    └─Conv2d: 3-15                 [10, 128, 54, 54]         (4,224)                   False\n",
       "│    │    └─ReLU: 3-16                   [10, 128, 54, 54]         --                        --\n",
       "│    │    └─Conv2d: 3-17                 [10, 128, 54, 54]         (36,992)                  False\n",
       "│    │    └─ReLU: 3-18                   [10, 128, 54, 54]         --                        --\n",
       "│    └─MaxPool2d: 2-7                    [10, 256, 27, 27]         --                        --\n",
       "│    └─Fire: 2-8                         [10, 256, 27, 27]         --                        False\n",
       "│    │    └─Conv2d: 3-19                 [10, 32, 27, 27]          (8,224)                   False\n",
       "│    │    └─ReLU: 3-20                   [10, 32, 27, 27]          --                        --\n",
       "│    │    └─Conv2d: 3-21                 [10, 128, 27, 27]         (4,224)                   False\n",
       "│    │    └─ReLU: 3-22                   [10, 128, 27, 27]         --                        --\n",
       "│    │    └─Conv2d: 3-23                 [10, 128, 27, 27]         (36,992)                  False\n",
       "│    │    └─ReLU: 3-24                   [10, 128, 27, 27]         --                        --\n",
       "│    └─Fire: 2-9                         [10, 384, 27, 27]         --                        False\n",
       "│    │    └─Conv2d: 3-25                 [10, 48, 27, 27]          (12,336)                  False\n",
       "│    │    └─ReLU: 3-26                   [10, 48, 27, 27]          --                        --\n",
       "│    │    └─Conv2d: 3-27                 [10, 192, 27, 27]         (9,408)                   False\n",
       "│    │    └─ReLU: 3-28                   [10, 192, 27, 27]         --                        --\n",
       "│    │    └─Conv2d: 3-29                 [10, 192, 27, 27]         (83,136)                  False\n",
       "│    │    └─ReLU: 3-30                   [10, 192, 27, 27]         --                        --\n",
       "│    └─Fire: 2-10                        [10, 384, 27, 27]         --                        False\n",
       "│    │    └─Conv2d: 3-31                 [10, 48, 27, 27]          (18,480)                  False\n",
       "│    │    └─ReLU: 3-32                   [10, 48, 27, 27]          --                        --\n",
       "│    │    └─Conv2d: 3-33                 [10, 192, 27, 27]         (9,408)                   False\n",
       "│    │    └─ReLU: 3-34                   [10, 192, 27, 27]         --                        --\n",
       "│    │    └─Conv2d: 3-35                 [10, 192, 27, 27]         (83,136)                  False\n",
       "│    │    └─ReLU: 3-36                   [10, 192, 27, 27]         --                        --\n",
       "│    └─Fire: 2-11                        [10, 512, 27, 27]         --                        False\n",
       "│    │    └─Conv2d: 3-37                 [10, 64, 27, 27]          (24,640)                  False\n",
       "│    │    └─ReLU: 3-38                   [10, 64, 27, 27]          --                        --\n",
       "│    │    └─Conv2d: 3-39                 [10, 256, 27, 27]         (16,640)                  False\n",
       "│    │    └─ReLU: 3-40                   [10, 256, 27, 27]         --                        --\n",
       "│    │    └─Conv2d: 3-41                 [10, 256, 27, 27]         (147,712)                 False\n",
       "│    │    └─ReLU: 3-42                   [10, 256, 27, 27]         --                        --\n",
       "│    └─MaxPool2d: 2-12                   [10, 512, 13, 13]         --                        --\n",
       "│    └─Fire: 2-13                        [10, 512, 13, 13]         --                        False\n",
       "│    │    └─Conv2d: 3-43                 [10, 64, 13, 13]          (32,832)                  False\n",
       "│    │    └─ReLU: 3-44                   [10, 64, 13, 13]          --                        --\n",
       "│    │    └─Conv2d: 3-45                 [10, 256, 13, 13]         (16,640)                  False\n",
       "│    │    └─ReLU: 3-46                   [10, 256, 13, 13]         --                        --\n",
       "│    │    └─Conv2d: 3-47                 [10, 256, 13, 13]         (147,712)                 False\n",
       "│    │    └─ReLU: 3-48                   [10, 256, 13, 13]         --                        --\n",
       "├─Sequential: 1-2                        [10, 10]                  --                        True\n",
       "│    └─Flatten: 2-14                     [10, 86528]               --                        --\n",
       "│    └─Linear: 2-15                      [10, 10]                  865,290                   True\n",
       "===================================================================================================================\n",
       "Total params: 1,600,714\n",
       "Trainable params: 865,290\n",
       "Non-trainable params: 735,424\n",
       "Total mult-adds (G): 7.37\n",
       "===================================================================================================================\n",
       "Input size (MB): 6.02\n",
       "Forward/backward pass size (MB): 334.18\n",
       "Params size (MB): 6.40\n",
       "Estimated Total Size (MB): 346.60\n",
       "==================================================================================================================="
      ]
     },
     "execution_count": 8,
     "metadata": {},
     "output_type": "execute_result"
    }
   ],
   "source": [
    "for l in squeezenet.features.parameters():\n",
    "    l.requires_grad = False\n",
    "\n",
    "squeezenet.classifier = nn.Sequential(\n",
    "    nn.Flatten(),\n",
    "    nn.Linear(86528, 10),\n",
    ")\n",
    "\n",
    "summary(squeezenet, (10, 3, 224, 224), col_names=[\"output_size\", \"num_params\", \"trainable\"])"
   ]
  },
  {
   "cell_type": "code",
   "execution_count": 9,
   "id": "IdQFg3IDG6zl",
   "metadata": {
    "colab": {
     "base_uri": "https://localhost:8080/"
    },
    "id": "IdQFg3IDG6zl",
    "outputId": "0279f003-bdc7-48d4-ad92-adac9571dc55"
   },
   "outputs": [
    {
     "name": "stdout",
     "output_type": "stream",
     "text": [
      "cuda:0\n"
     ]
    }
   ],
   "source": [
    "if torch.cuda.is_available():  \n",
    "  dev = \"cuda:0\" \n",
    "else:  \n",
    "  dev = \"cpu\"  \n",
    "device = torch.device(dev)  \n",
    "print(device)\n",
    "squeezenet = squeezenet.to(device)"
   ]
  },
  {
   "cell_type": "code",
   "execution_count": 10,
   "id": "qTjuhSocdpQq",
   "metadata": {
    "id": "qTjuhSocdpQq"
   },
   "outputs": [],
   "source": [
    "criterion = nn.CrossEntropyLoss()\n",
    "optimizer = optim.SGD(squeezenet.parameters(), lr=0.01)"
   ]
  },
  {
   "cell_type": "code",
   "execution_count": 12,
   "id": "kw-RUHTbgmuv",
   "metadata": {
    "colab": {
     "base_uri": "https://localhost:8080/"
    },
    "id": "kw-RUHTbgmuv",
    "outputId": "3b4d8960-ea1a-4684-d31b-d345e3e0c678"
   },
   "outputs": [
    {
     "name": "stdout",
     "output_type": "stream",
     "text": [
      "[1,  2000] loss: 1206.846\n",
      "[1,  4000] loss: 1124.468\n",
      "[1,  6000] loss: 1081.617\n",
      "[1,  8000] loss: 1067.494\n",
      "Finished Training\n"
     ]
    }
   ],
   "source": [
    "for epoch in range(1):  # loop over the dataset multiple times\n",
    "\n",
    "    running_loss = 0.0\n",
    "    for i, data in enumerate(trainloader, 0):\n",
    "        # get the inputs; data is a list of [inputs, labels]\n",
    "        inputs, labels = data\n",
    "        inputs, labels = inputs.to(device), labels.to(device)\n",
    "\n",
    "        # zero the parameter gradients\n",
    "        optimizer.zero_grad()\n",
    "\n",
    "        # forward + backward + optimize\n",
    "        outputs = squeezenet(inputs)\n",
    "        loss = criterion(outputs, labels)\n",
    "        loss.backward()\n",
    "        optimizer.step()\n",
    "\n",
    "        # print statistics\n",
    "        running_loss += loss.item()\n",
    "        if i % 2000 == 1999:    # print every 2000 mini-batches\n",
    "            print(f'[{epoch + 1}, {i + 1:5d}] loss: {running_loss / 2000:.3f}')\n",
    "            running_loss = 0.0\n",
    "\n",
    "print('Finished Training')"
   ]
  },
  {
   "cell_type": "code",
   "execution_count": 14,
   "id": "sGd0Vo6Si7JN",
   "metadata": {
    "colab": {
     "base_uri": "https://localhost:8080/"
    },
    "id": "sGd0Vo6Si7JN",
    "outputId": "4d4b0a2e-dc8e-4036-eb3a-41adfbc68684"
   },
   "outputs": [
    {
     "name": "stdout",
     "output_type": "stream",
     "text": [
      "Accuracy of the network on the val images: 77 %\n"
     ]
    }
   ],
   "source": [
    "correct = 0\n",
    "total = 0\n",
    "# since we're not training, we don't need to calculate the gradients for our outputs\n",
    "with torch.no_grad():\n",
    "    for data in valloader:\n",
    "        images, labels = data\n",
    "        images, labels = images.to(device), labels.to(device)\n",
    "        # calculate outputs by running images through the network\n",
    "        outputs = squeezenet(images)\n",
    "        # the class with the highest energy is what we choose as prediction\n",
    "        _, predicted = torch.max(outputs.data, 1)\n",
    "        total += labels.size(0)\n",
    "        correct += (predicted == labels).sum().item()\n",
    "\n",
    "print(f'Accuracy of the network on the val images: {100 * correct // total} %')"
   ]
  },
  {
   "cell_type": "code",
   "execution_count": 18,
   "id": "vzzCSm_t7e_n",
   "metadata": {
    "colab": {
     "base_uri": "https://localhost:8080/"
    },
    "id": "vzzCSm_t7e_n",
    "outputId": "47ef6b0b-f757-4076-9b5b-60066426e1e4"
   },
   "outputs": [
    {
     "name": "stdout",
     "output_type": "stream",
     "text": [
      "[1,  2000] loss: nan\n",
      "[1,  4000] loss: nan\n",
      "[1,  6000] loss: nan\n",
      "[1,  8000] loss: nan\n",
      "Finished Training\n"
     ]
    }
   ],
   "source": [
    "# Fine Tuning (didn't work)\n",
    "for l in squeezenet.features.parameters():\n",
    "    l.requires_grad = True\n",
    "\n",
    "for epoch in range(1):  # loop over the dataset multiple times\n",
    "\n",
    "    running_loss = 0.0\n",
    "    for i, data in enumerate(trainloader, 0):\n",
    "        # get the inputs; data is a list of [inputs, labels]\n",
    "        inputs, labels = data\n",
    "        inputs, labels = inputs.to(device), labels.to(device)\n",
    "\n",
    "        # zero the parameter gradients\n",
    "        optimizer.zero_grad()\n",
    "\n",
    "        # forward + backward + optimize\n",
    "        outputs = squeezenet(inputs)\n",
    "        loss = criterion(outputs, labels)\n",
    "        loss.backward()\n",
    "        optimizer.step()\n",
    "\n",
    "        # print statistics\n",
    "        running_loss += loss.item()\n",
    "        if i % 2000 == 1999:    # print every 2000 mini-batches\n",
    "            print(f'[{epoch + 1}, {i + 1:5d}] loss: {running_loss / 2000:.3f}')\n",
    "            running_loss = 0.0\n",
    "\n",
    "print('Finished Training')"
   ]
  },
  {
   "cell_type": "code",
   "execution_count": 17,
   "id": "zTr5Oc937tcE",
   "metadata": {
    "colab": {
     "base_uri": "https://localhost:8080/"
    },
    "id": "zTr5Oc937tcE",
    "outputId": "f72fb77c-9cb2-4e8e-cea6-9f583913b002"
   },
   "outputs": [
    {
     "name": "stdout",
     "output_type": "stream",
     "text": [
      "Accuracy of the network on the val images: 10 %\n"
     ]
    }
   ],
   "source": [
    "correct = 0\n",
    "total = 0\n",
    "# since we're not training, we don't need to calculate the gradients for our outputs\n",
    "with torch.no_grad():\n",
    "    for data in valloader:\n",
    "        images, labels = data\n",
    "        images, labels = images.to(device), labels.to(device)\n",
    "        # calculate outputs by running images through the network\n",
    "        outputs = squeezenet(images)\n",
    "        # the class with the highest energy is what we choose as prediction\n",
    "        _, predicted = torch.max(outputs.data, 1)\n",
    "        total += labels.size(0)\n",
    "        correct += (predicted == labels).sum().item()\n",
    "\n",
    "print(f'Accuracy of the network on the val images: {100 * correct // total} %')"
   ]
  },
  {
   "cell_type": "markdown",
   "id": "AP20NWtWSeE3",
   "metadata": {
    "id": "AP20NWtWSeE3"
   },
   "source": [
    "## Question 3"
   ]
  },
  {
   "cell_type": "code",
   "execution_count": null,
   "id": "Ot2FssxuJRit",
   "metadata": {
    "colab": {
     "base_uri": "https://localhost:8080/"
    },
    "id": "Ot2FssxuJRit",
    "outputId": "2c4d9067-d5b0-41a6-c046-83f8eb4abe6e"
   },
   "outputs": [
    {
     "name": "stdout",
     "output_type": "stream",
     "text": [
      "Mounted at /content/drive\n"
     ]
    }
   ],
   "source": [
    "from google.colab import drive\n",
    "drive.mount('/content/drive')"
   ]
  },
  {
   "cell_type": "code",
   "execution_count": null,
   "id": "BnQAAD8OSgjg",
   "metadata": {
    "id": "BnQAAD8OSgjg"
   },
   "outputs": [],
   "source": [
    "transform = transforms.Compose([transforms.ToTensor()])\n",
    "lfwcrop = torchvision.datasets.ImageFolder('/content/drive/MyDrive/SU-MLAI/Computer Vision/assignment2/lfwcrop_color', transform=transform)\n",
    "noisy_set = []\n",
    "for im, l in lfwcrop:\n",
    "  noisy_set.append(im + (0.1 * 1) * torch.randn(3, 64, 64))\n",
    "\n",
    "class DualImageDataset(torch.utils.data.Dataset):\n",
    "    def __init__(self, original, noisy):\n",
    "        self.noisy = noisy\n",
    "        self.original = original\n",
    "\n",
    "    def __len__(self):\n",
    "        return len(self.noisy)\n",
    "\n",
    "    def __getitem__(self, index):\n",
    "        noisy_image, original_image = self.noisy[index], self.original[index][0]\n",
    "        return noisy_image, original_image\n",
    "\n",
    "dataset = DualImageDataset(lfwcrop, noisy_set)"
   ]
  },
  {
   "cell_type": "code",
   "execution_count": null,
   "id": "gggn9oE2gd2V",
   "metadata": {
    "colab": {
     "base_uri": "https://localhost:8080/"
    },
    "id": "gggn9oE2gd2V",
    "outputId": "4ca28199-d25d-42b6-d118-6d842ec6b423"
   },
   "outputs": [
    {
     "data": {
      "text/plain": [
       "(13238, 13238)"
      ]
     },
     "execution_count": 26,
     "metadata": {},
     "output_type": "execute_result"
    }
   ],
   "source": [
    "len(lfwcrop), len(dataset)"
   ]
  },
  {
   "cell_type": "code",
   "execution_count": null,
   "id": "JQYBWWTRSrpR",
   "metadata": {
    "id": "JQYBWWTRSrpR"
   },
   "outputs": [],
   "source": [
    "n = len(dataset)\n",
    "\n",
    "n_test = int(0.1 * n)\n",
    "train_set, test_set = torch.utils.data.random_split(dataset, [n - n_test, n_test])\n",
    "\n",
    "trainloader = torch.utils.data.DataLoader(train_set,\n",
    "                                          shuffle=True, num_workers=2)\n",
    "\n",
    "testloader = torch.utils.data.DataLoader(test_set,\n",
    "                                         shuffle=False, num_workers=2)"
   ]
  },
  {
   "cell_type": "code",
   "execution_count": null,
   "id": "KKQO6OVHTYiC",
   "metadata": {
    "id": "KKQO6OVHTYiC"
   },
   "outputs": [],
   "source": [
    "class autoEncoder(nn.Module):\n",
    "    def __init__(self):\n",
    "        super().__init__()\n",
    "        \n",
    "        self.conv1 = nn.Conv2d(3, 16, 3, padding = 1)\n",
    "        self.pool = nn.MaxPool2d(2, 2, return_indices=True)\n",
    "        self.conv2 = nn.Conv2d(16, 32, 3, padding = 1)\n",
    "        self.conv3 = nn.Conv2d(32, 64, 3, padding = 1)\n",
    "        \n",
    "        self.unpool = nn.MaxUnpool2d(2, 2)\n",
    "        self.convT1 = nn.Conv2d(64, 32, 3, padding = 1)\n",
    "        self.convT2 = nn.Conv2d(32, 16, 3, padding = 1)\n",
    "        self.convT3 = nn.Conv2d(16, 3, 3, padding = 1)\n",
    "        \n",
    "\n",
    "    def forward(self, x):\n",
    "        x, indices1 = self.pool(F.relu(self.conv1(x)))\n",
    "        x, indices2 = self.pool(F.relu(self.conv2(x)))\n",
    "        x, indices3 = self.pool(F.relu(self.conv3(x)))\n",
    "        #x = F.relu(self.conv3(x))\n",
    "        \n",
    "        x = self.unpool(x, indices3)\n",
    "        x = F.relu(self.convT1(x))\n",
    "        x = self.unpool(x, indices2)\n",
    "        x = F.relu(self.convT2(x))\n",
    "        x = self.unpool(x, indices1)\n",
    "        x = F.relu(self.convT3(x))\n",
    "        return x\n",
    "    \n",
    "    \n",
    "ae = autoEncoder()\n",
    "criterion = torch.nn.MSELoss()\n",
    "optimizer = torch.optim.Adam(ae.parameters(),\n",
    "                             lr = 1e-1,\n",
    "                             weight_decay = 1e-8)"
   ]
  },
  {
   "cell_type": "code",
   "execution_count": null,
   "id": "ilo-LX1mkGW4",
   "metadata": {
    "id": "ilo-LX1mkGW4"
   },
   "outputs": [],
   "source": [
    "class autoEncoder(nn.Module):\n",
    "    def __init__(self):\n",
    "        super().__init__()\n",
    "        \n",
    "        self.conv1 = nn.Conv2d(3, 16, 3, padding = 1)\n",
    "        self.pool = nn.MaxPool2d(2, 2, return_indices=True)\n",
    "        self.conv2 = nn.Conv2d(16, 32, 3, padding = 1)\n",
    "        self.conv3 = nn.Conv2d(32, 64, 3, padding = 1)\n",
    "        \n",
    "        self.unpool = nn.MaxUnpool2d(2, 2)\n",
    "        self.convT1 = nn.Conv2d(64, 32, 3, padding = 1)\n",
    "        self.convT2 = nn.Conv2d(32, 16, 3, padding = 1)\n",
    "        self.convT3 = nn.Conv2d(16, 3, 3, padding = 1)\n",
    "        \n",
    "\n",
    "    def forward(self, x):\n",
    "        x, indices1 = self.pool(F.relu(self.conv1(x)))\n",
    "        x, indices2 = self.pool(F.relu(self.conv2(x)))\n",
    "        x = F.relu(self.conv3(x))\n",
    "        \n",
    "        x = F.relu(self.convT1(x))\n",
    "        x = self.unpool(x, indices2)\n",
    "        x = F.relu(self.convT2(x))\n",
    "        x = self.unpool(x, indices1)\n",
    "        x = F.relu(self.convT3(x))\n",
    "        return x\n",
    "    \n",
    "    \n",
    "ae = autoEncoder()\n",
    "criterion = torch.nn.MSELoss()\n",
    "optimizer = torch.optim.Adam(ae.parameters(), lr = 0.001)"
   ]
  },
  {
   "cell_type": "code",
   "execution_count": null,
   "id": "RSPtsWIITaTC",
   "metadata": {
    "colab": {
     "base_uri": "https://localhost:8080/"
    },
    "id": "RSPtsWIITaTC",
    "outputId": "2b73c7ca-c8c6-45f0-fc93-8240488dc62f"
   },
   "outputs": [
    {
     "name": "stdout",
     "output_type": "stream",
     "text": [
      "[1,  2000] loss: 0.008\n",
      "[1,  4000] loss: 0.003\n",
      "[1,  6000] loss: 0.002\n",
      "[1,  8000] loss: 0.002\n",
      "[1, 10000] loss: 0.002\n",
      "Finished Training\n"
     ]
    }
   ],
   "source": [
    "for epoch in range(1):  # loop over the dataset multiple times\n",
    "\n",
    "    running_loss = 0.0\n",
    "    for i, data in enumerate(trainloader, 0):\n",
    "        # get the inputs; data is a list of [inputs, labels]\n",
    "        inputs, labels = data\n",
    "\n",
    "        # zero the parameter gradients\n",
    "        optimizer.zero_grad()\n",
    "\n",
    "        # forward + backward + optimize\n",
    "        outputs = ae(inputs)\n",
    "        \n",
    "        loss = criterion(outputs, labels)\n",
    "        loss.backward()\n",
    "        optimizer.step()\n",
    "\n",
    "        # print statistics\n",
    "        running_loss += loss.item()\n",
    "        if i % 2000 == 1999:    # print every 2000 mini-batches\n",
    "            print(f'[{epoch + 1}, {i + 1:5d}] loss: {running_loss / 2000:.3f}')\n",
    "            running_loss = 0.0\n",
    "\n",
    "print('Finished Training')"
   ]
  },
  {
   "cell_type": "code",
   "execution_count": null,
   "id": "hg1lIyy9idCv",
   "metadata": {
    "colab": {
     "base_uri": "https://localhost:8080/",
     "height": 467
    },
    "id": "hg1lIyy9idCv",
    "outputId": "2dd35c08-bc07-4855-88e1-bcc0dae8584d"
   },
   "outputs": [
    {
     "name": "stderr",
     "output_type": "stream",
     "text": [
      "WARNING:matplotlib.image:Clipping input data to the valid range for imshow with RGB data ([0..1] for floats or [0..255] for integers).\n"
     ]
    },
    {
     "data": {
      "text/plain": [
       "<matplotlib.image.AxesImage at 0x7fefddc9fd60>"
      ]
     },
     "execution_count": 46,
     "metadata": {},
     "output_type": "execute_result"
    },
    {
     "data": {
      "image/png": "[encoded data removed]",
      "text/plain": [
       "<Figure size 640x480 with 1 Axes>"
      ]
     },
     "metadata": {},
     "output_type": "display_data"
    }
   ],
   "source": [
    "test_img, test_label = test_set[17]\n",
    "plt.imshow(test_img.permute(1, 2, 0))"
   ]
  },
  {
   "cell_type": "code",
   "execution_count": null,
   "id": "Tr5955t5n_ZH",
   "metadata": {
    "colab": {
     "base_uri": "https://localhost:8080/",
     "height": 449
    },
    "id": "Tr5955t5n_ZH",
    "outputId": "0a1ea11e-e998-4b83-ece4-b546d57f6f15"
   },
   "outputs": [
    {
     "data": {
      "text/plain": [
       "<matplotlib.image.AxesImage at 0x7fefb46e72e0>"
      ]
     },
     "execution_count": 47,
     "metadata": {},
     "output_type": "execute_result"
    },
    {
     "data": {
      "image/png": "[encoded data removed]",
      "text/plain": [
       "<Figure size 640x480 with 1 Axes>"
      ]
     },
     "metadata": {},
     "output_type": "display_data"
    }
   ],
   "source": [
    "plt.imshow(test_label.permute(1, 2, 0))"
   ]
  },
  {
   "cell_type": "code",
   "execution_count": null,
   "id": "bybiL1S0jLya",
   "metadata": {
    "colab": {
     "base_uri": "https://localhost:8080/",
     "height": 467
    },
    "id": "bybiL1S0jLya",
    "outputId": "13bb66f0-e473-40aa-def0-4c213106451b"
   },
   "outputs": [
    {
     "name": "stderr",
     "output_type": "stream",
     "text": [
      "WARNING:matplotlib.image:Clipping input data to the valid range for imshow with RGB data ([0..1] for floats or [0..255] for integers).\n"
     ]
    },
    {
     "data": {
      "text/plain": [
       "<matplotlib.image.AxesImage at 0x7fefb1e70cd0>"
      ]
     },
     "execution_count": 48,
     "metadata": {},
     "output_type": "execute_result"
    },
    {
     "data": {
      "image/png": "[encoded data removed]",
      "text/plain": [
       "<Figure size 640x480 with 1 Axes>"
      ]
     },
     "metadata": {},
     "output_type": "display_data"
    }
   ],
   "source": [
    "plt.imshow(ae(test_img).detach().permute(1, 2, 0))\n",
    "#ae(test_img_noisy)"
   ]
  },
  {
   "cell_type": "code",
   "execution_count": null,
   "id": "XXcj_37bj0W0",
   "metadata": {
    "id": "XXcj_37bj0W0"
   },
   "outputs": [],
   "source": []
  }
 ],
 "metadata": {
  "accelerator": "GPU",
  "colab": {
   "collapsed_sections": [
    "ETvF-dx3Ft2w",
    "u7gtne8oPd55",
    "4gDsOYgILkjj"
   ],
   "provenance": []
  },
  "gpuClass": "standard",
  "kernelspec": {
   "display_name": "Python 3 (ipykernel)",
   "language": "python",
   "name": "python3"
  },
  "language_info": {
   "codemirror_mode": {
    "name": "ipython",
    "version": 3
   },
   "file_extension": ".py",
   "mimetype": "text/x-python",
   "name": "python",
   "nbconvert_exporter": "python",
   "pygments_lexer": "ipython3",
   "version": "3.9.16"
  }
 },
 "nbformat": 4,
 "nbformat_minor": 5
}
